{
 "cells": [
  {
   "cell_type": "raw",
   "id": "a7313bd6-c541-405b-ac19-6292ee0f566a",
   "metadata": {},
   "source": [
    "Q1: Who Developed the python programming language?\n",
    "Ans: Guido Van Rossum"
   ]
  },
  {
   "cell_type": "raw",
   "id": "359e24a4-1891-4c5d-86c5-0fd6a03dd281",
   "metadata": {},
   "source": [
    "Q2: Which type of programming does python support?\n",
    "Ans: Object oriented programing and structured programing"
   ]
  },
  {
   "cell_type": "raw",
   "id": "1b57e5c2-ce00-4092-872a-637b2a75a300",
   "metadata": {},
   "source": [
    "Q3: is python case sensitive when dealing with identifier?\n",
    "Ans: yes it is a case sensitive"
   ]
  },
  {
   "cell_type": "raw",
   "id": "90a4a556-0365-452e-a48c-e0d7abf3316c",
   "metadata": {},
   "source": [
    "Q4: what is the correct extension of python file?\n",
    "Ans: py"
   ]
  },
  {
   "cell_type": "raw",
   "id": "0769f7df-2af8-441c-9c27-7c267006acdf",
   "metadata": {},
   "source": [
    "Q5: Is python code compiled or interpreted? \n",
    "Ans: Python is an interpreted language, which means the source code of a Python program is converted into bytecode that is then executed by the Python virtual machine"
   ]
  },
  {
   "cell_type": "raw",
   "id": "03e96916-81c9-489e-bb68-ba088752f962",
   "metadata": {},
   "source": [
    "Q6: Name a few blocks of code used to define in Python language?\n",
    "Ans: Python uses indentation to define blocks of code. Indentations are simply spaces or tabs used as an indicator that is part of the indent code child.\n",
    "\n",
    "if (condition):\n",
    "\n",
    "# Statement 1\n",
    "\n",
    "else:\n",
    "\n",
    "# Statement 2\n",
    "\n",
    "You will find that statements 1 will have the same indentation and therefore is of the same block. And similarly, statements 2 is of a another block."
   ]
  },
  {
   "cell_type": "raw",
   "id": "c3e8a6ea-60aa-45ac-9789-ccf6932269d0",
   "metadata": {},
   "source": [
    "Q7: State a character used to give single-line comments in Python?\n",
    "Ans: ' # ' symbol to write a single-line comment."
   ]
  },
  {
   "cell_type": "raw",
   "id": "a0b0d9ec-9336-434d-b751-4d052ca676e2",
   "metadata": {},
   "source": [
    "Q8: Mention functions which can help us to find the version of python that we are currently working on?\n",
    "Ans: The function sys.version can help us to find the version of python that we are currently working on."
   ]
  },
  {
   "cell_type": "raw",
   "id": "808a54f8-896d-4480-be06-6d0ae21878ac",
   "metadata": {},
   "source": [
    "Q9: Python supports the creation of anonymous functions at runtime, using a construct called\n",
    "Ans: Lambda"
   ]
  },
  {
   "cell_type": "raw",
   "id": "9e009a6e-1082-48c1-ae86-e3098d6e7288",
   "metadata": {},
   "source": [
    "Q10: What does pip stand for python?\n",
    "Ans: Preferred Installer Program"
   ]
  },
  {
   "cell_type": "raw",
   "id": "a961acdb-393e-4bec-bb9d-67199fc75972",
   "metadata": {},
   "source": [
    "Q11: Mention a few built- in functions in python?\n",
    "Ans: \n",
    "1) bool()\n",
    "This function takes a value as an argument and returns either True or False. It gives True if the value is not empty/zero/False. Or else it returns False.\n",
    "\n",
    "2) chr()\n",
    "This function takes the Unicode value as an input and returns the respective character.\n",
    "\n",
    "3) dict()\n",
    "This function converts the input into the dictionary data type and returns it."
   ]
  },
  {
   "cell_type": "raw",
   "id": "e7f4b286-44b1-44b1-a018-3f7308b05e53",
   "metadata": {},
   "source": [
    "Q12: What is the maximum possible length of an identifier in Python?\n",
    "Ans: 79 characters"
   ]
  },
  {
   "cell_type": "raw",
   "id": "34d2a35c-673f-433d-ba4a-bed7e39fe3a7",
   "metadata": {},
   "source": [
    "Q13: What are the benefits of using Python?\n",
    "Ans:\n",
    "Simple and Easy to learn\n",
    "Portable and Extensible\n",
    "Object-Oriented Programming\n",
    "Artificial Intelligence\n",
    "Big Data"
   ]
  },
  {
   "cell_type": "raw",
   "id": "21e58e92-4fab-4b43-8bf5-fb50a4bb68e3",
   "metadata": {},
   "source": [
    "Q14: "
   ]
  },
  {
   "cell_type": "raw",
   "id": "7cbf8536-6e8a-437e-ac45-22ad000777ec",
   "metadata": {},
   "source": []
  },
  {
   "cell_type": "raw",
   "id": "2c6209cb-e79e-4be5-827e-61eff71ec60e",
   "metadata": {},
   "source": []
  }
 ],
 "metadata": {
  "kernelspec": {
   "display_name": "Python 3 (ipykernel)",
   "language": "python",
   "name": "python3"
  },
  "language_info": {
   "codemirror_mode": {
    "name": "ipython",
    "version": 3
   },
   "file_extension": ".py",
   "mimetype": "text/x-python",
   "name": "python",
   "nbconvert_exporter": "python",
   "pygments_lexer": "ipython3",
   "version": "3.10.8"
  }
 },
 "nbformat": 4,
 "nbformat_minor": 5
}
