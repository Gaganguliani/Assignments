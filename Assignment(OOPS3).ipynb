{
 "cells": [
  {
   "cell_type": "raw",
   "id": "2fa69b7a-89be-4dac-8571-90d9ed597af7",
   "metadata": {},
   "source": [
    "Q1. Which function is used to open a file? What are the different modes of opening a file? Explain each mode\n",
    "of file opening."
   ]
  },
  {
   "cell_type": "raw",
   "id": "5541783e-778c-4980-a525-45ae51677034",
   "metadata": {},
   "source": [
    "The open() function is used to open a file in Python. When you open a file, you can specify the mode in which you want to open it. The different modes of opening a file in Python are:\n",
    "\n",
    "'r' (read mode) - This mode is used when you only want to read the contents of a file. When you open a file in read mode, you cannot write to it or make any changes to it. If the file does not exist, a FileNotFoundError will be raised.\n",
    "\n",
    "'w' (write mode) - This mode is used when you want to write to a file. If the file already exists, its contents will be overwritten. If the file does not exist, a new file will be created.\n",
    "\n",
    "'a' (append mode) - This mode is used when you want to add new content to the end of an existing file. If the file does not exist, a new file will be created. In append mode, you can only write to the end of the file, and not anywhere else.\n",
    "\n",
    "'x' (exclusive creation mode) - This mode is used when you want to create a new file and write to it, but only if the file does not already exist. If the file already exists, a FileExistsError will be raised.\n",
    "\n",
    "'b' (binary mode) - This mode is used when you want to read or write binary data to a file. When opening a file in binary mode, you should use 'rb' to read binary data and 'wb' to write binary data.\n",
    "\n",
    "'t' (text mode) - This mode is used when you want to read or write text data to a file. When opening a file in text mode, you should use 'rt' to read text data and 'wt' to write text data.\n",
    "\n",
    "You can combine these modes when opening a file, for example: 'rb' to open a binary file in read mode, 'wt' to open a text file in write mode, etc. The default mode is 'rt' (read text mode) if no mode is specified."
   ]
  },
  {
   "cell_type": "raw",
   "id": "9cb3559c-0b4b-40bd-ace1-ef4fc1e2a5fe",
   "metadata": {},
   "source": [
    "Q2. Why close() function is used? Why is it important to close a file?"
   ]
  },
  {
   "cell_type": "raw",
   "id": "cdbe0be1-5b60-4366-b9af-958bd5a76456",
   "metadata": {},
   "source": [
    "The close() function is used to close an open file. When a file is opened in Python using the open function, the operating system reserves some resources to handle the file. This can include memory, disk space, file handles, etc. When you are done with a file and no longer need to read from or write to it, it is important to close it so that these resources can be released and made available for other applications.\n",
    "\n",
    "In addition to freeing up resources, closing a file also ensures that any changes you made to the file are saved and written to disk. This makes it a good practice to close a file after you have finished using it.\n",
    "\n",
    "If you forget to close a file, the operating system will eventually release the resources that were reserved for it when the Python process ends. However, it's still a good idea to close files explicitly, as it makes the intent of your code more clear and reduces the chance of resource leaks or other unintended consequences."
   ]
  },
  {
   "cell_type": "raw",
   "id": "fab833b1-e4e8-409a-97db-bd1b82c7cd14",
   "metadata": {},
   "source": [
    "Q3. Write a python program to create a text file. Write ‘I want to become a Data Scientist’ in that file. Then\n",
    "close the file. Open this file and read the content of the file."
   ]
  },
  {
   "cell_type": "code",
   "execution_count": 1,
   "id": "9a5e60f1-4f48-4798-9126-85c8dd862948",
   "metadata": {},
   "outputs": [
    {
     "name": "stdout",
     "output_type": "stream",
     "text": [
      "I want to become a Data Scientist\n"
     ]
    }
   ],
   "source": [
    "# create a text file\n",
    "file = open(\"textfile.txt\", \"w\")\n",
    "\n",
    "# write to the file\n",
    "file.write(\"I want to become a Data Scientist\")\n",
    "\n",
    "# close the file\n",
    "file.close()\n",
    "\n",
    "# open the file in read mode\n",
    "file = open(\"textfile.txt\", \"r\")\n",
    "\n",
    "# read the contents of the file\n",
    "contents = file.read()\n",
    "\n",
    "# print the contents of the file\n",
    "print(contents)\n",
    "\n",
    "# close the file\n",
    "file.close()"
   ]
  },
  {
   "cell_type": "raw",
   "id": "ded7711a-e69a-4043-a770-bc7918c21c6b",
   "metadata": {},
   "source": [
    "Q4. Explain the following with python code: read(), readline() and readlines()."
   ]
  },
  {
   "cell_type": "raw",
   "id": "3e8e4c60-1cc8-48cb-b7d7-843cfad37c63",
   "metadata": {},
   "source": [
    "Ans: read(): The read() method reads the entire contents of a file and returns it as a single string\n",
    "\n",
    "readline(): The readline() method reads one line of the file at a time and returns it as a string.\n",
    "\n",
    "readlines(): The readlines() method reads all the lines of the file and returns them as a list of strings, where each string is a line of the file"
   ]
  },
  {
   "cell_type": "raw",
   "id": "7fbeca85-8192-4072-9276-a4a06a0d8c4c",
   "metadata": {},
   "source": [
    "Q5. Explain why with statement is used with open(). What is the advantage of using with statement and\n",
    "open() together?"
   ]
  },
  {
   "cell_type": "raw",
   "id": "1038c465-2a52-4d97-a5b0-e7c23a951571",
   "metadata": {},
   "source": [
    "Ans: In Python, the with statement is often used with the open function to handle files. The with statement provides a convenient way to manage the resources that a program uses, including files.\n",
    "\n",
    "When you open a file with the open function, you need to close the file after you're done with it. If you forget to close the file, it can cause problems, such as data corruption or resource leaks.\n",
    "\n",
    "The with statement provides a convenient way to ensure that resources are properly managed. When you use the with statement with the open function, you don't have to worry about manually closing the file. The with statement automatically closes the file for you, even if an exception is raised within the with block."
   ]
  },
  {
   "cell_type": "raw",
   "id": "24b4fa58-346d-4bef-88ee-1dc8d1bd25e0",
   "metadata": {},
   "source": [
    "Q6. Explain the write() and writelines() functions. Give a suitable example."
   ]
  },
  {
   "cell_type": "raw",
   "id": "36219531-01e0-4a4f-bf5a-9e95ac1442af",
   "metadata": {},
   "source": [
    "write(): The write() function is used to write a string to a file.\n",
    "\n",
    "writelines(): The writelines() function is used to write a list of strings to a file."
   ]
  },
  {
   "cell_type": "code",
   "execution_count": null,
   "id": "b9846def-5a1d-487d-8350-304dd9981bc5",
   "metadata": {},
   "outputs": [],
   "source": []
  }
 ],
 "metadata": {
  "kernelspec": {
   "display_name": "Python 3 (ipykernel)",
   "language": "python",
   "name": "python3"
  },
  "language_info": {
   "codemirror_mode": {
    "name": "ipython",
    "version": 3
   },
   "file_extension": ".py",
   "mimetype": "text/x-python",
   "name": "python",
   "nbconvert_exporter": "python",
   "pygments_lexer": "ipython3",
   "version": "3.10.8"
  }
 },
 "nbformat": 4,
 "nbformat_minor": 5
}
