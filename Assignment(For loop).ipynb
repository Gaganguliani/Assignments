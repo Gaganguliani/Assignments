{
 "cells": [
  {
   "cell_type": "raw",
   "id": "4cfc7dcb-75c0-47d9-a3b2-d9746774ff3b",
   "metadata": {},
   "source": [
    "Q 1: Explain with an example each when to use a for loop and a while loop."
   ]
  },
  {
   "cell_type": "raw",
   "id": "08a0da64-3ddc-468d-8fc0-275b715f4da1",
   "metadata": {},
   "source": [
    "Ans: For loops are used when you want to do operations on each member of a sequence, in order. While loops are used when you need to:\n",
    "Operate on the elements out-of-order\n",
    "Access / operate on multiple elements simultaneously\n",
    "Loop until some condition changes from True to False\n",
    "Read a file into a var"
   ]
  },
  {
   "cell_type": "code",
   "execution_count": 1,
   "id": "008287c7-96d3-42b0-bec1-ff2eedb0d96e",
   "metadata": {},
   "outputs": [
    {
     "name": "stdout",
     "output_type": "stream",
     "text": [
      "0\n",
      "1\n",
      "2\n",
      "3\n",
      "4\n",
      "5\n",
      "6\n",
      "7\n",
      "8\n",
      "9\n"
     ]
    }
   ],
   "source": [
    "for i in range(10):\n",
    "    print(i)"
   ]
  },
  {
   "cell_type": "code",
   "execution_count": 3,
   "id": "b4951a6e-f714-4a19-bdc9-b573c84f2fe9",
   "metadata": {},
   "outputs": [
    {
     "name": "stdout",
     "output_type": "stream",
     "text": [
      "0\n",
      "1\n",
      "2\n",
      "3\n",
      "4\n",
      "5\n",
      "6\n",
      "7\n",
      "8\n",
      "9\n"
     ]
    }
   ],
   "source": [
    "i=0\n",
    "while(i!=10):\n",
    "    print(i)\n",
    "    i+=1;"
   ]
  },
  {
   "cell_type": "raw",
   "id": "2e17e8e2-1e30-4bf9-8587-ce159b0dfd43",
   "metadata": {},
   "source": [
    "Q2. Write a python program to print the sum and product of the first 10 natural numbers using for and while loop."
   ]
  },
  {
   "cell_type": "code",
   "execution_count": 4,
   "id": "bb3d4492-be8d-4fd8-a9d1-d28bb322ff2e",
   "metadata": {},
   "outputs": [
    {
     "name": "stdout",
     "output_type": "stream",
     "text": [
      "sum of 10 nos are: 55\n",
      "product of 10 nos are: 3628800\n"
     ]
    }
   ],
   "source": [
    "#for loop\n",
    "sum=0\n",
    "product =1\n",
    "for i in range(1,11):\n",
    "    sum = sum+i\n",
    "    product = product*i\n",
    "\n",
    "print(\"sum of 10 nos are:\",sum)\n",
    "print(\"product of 10 nos are:\",product)"
   ]
  },
  {
   "cell_type": "code",
   "execution_count": 5,
   "id": "3cb72c29-fc60-442e-a040-164252ca974f",
   "metadata": {},
   "outputs": [
    {
     "name": "stdout",
     "output_type": "stream",
     "text": [
      "sum of 10 nos are: 55\n",
      "product of 10 nos are: 3628800\n"
     ]
    }
   ],
   "source": [
    "#while loop\n",
    "sum=0\n",
    "products =1\n",
    "i=1\n",
    "while (i<11):\n",
    "    sum = sum+i\n",
    "    products = products*i\n",
    "    i +=1\n",
    "print(\"sum of 10 nos are:\",sum)\n",
    "print(\"product of 10 nos are:\",products)"
   ]
  },
  {
   "cell_type": "raw",
   "id": "05ade790-3345-41c2-8e3a-438b9029e8f2",
   "metadata": {},
   "source": [
    "Q3. Create a python program to compute the electricity bill for a household. The per-unit charges in rupees are as follows: For the first 100 units, the user will be charged Rs. 4.5 per unit, for the next 100 units, the user will be charged Rs. 6 per unit, and for the next 100 units, the user will be charged Rs. 10 per unit, After 300 units and above the user will be charged Rs. 20 per unit. Your program must pass this test case: when the unit of electricity consumed by the user in a month is 310, the total electricity bill should be 2250."
   ]
  },
  {
   "cell_type": "code",
   "execution_count": 6,
   "id": "1307b7a5-3b0b-4972-8520-842268876444",
   "metadata": {},
   "outputs": [
    {
     "name": "stdin",
     "output_type": "stream",
     "text": [
      "Enter Units:  42\n"
     ]
    },
    {
     "name": "stdout",
     "output_type": "stream",
     "text": [
      "Total Electricity Bill Rs.189.0\n"
     ]
    }
   ],
   "source": [
    "units = int(input('Enter Units: '))\n",
    "bill = 0\n",
    "if units <= 100:\n",
    "    bill += 4.5*units\n",
    "    units -= 100\n",
    "elif units > 100 and units <= 200:\n",
    "    bill += 450\n",
    "    units -= 100\n",
    "    bill += 6*units\n",
    "elif units > 200 and units <= 300:\n",
    "    bill += 450+600\n",
    "    units -= 200\n",
    "    bill += 10*units\n",
    "elif units > 300:\n",
    "    bill += 450+600+1000\n",
    "    units -= 300\n",
    "    bill += 20*units\n",
    "print(f'Total Electricity Bill Rs.{bill}')"
   ]
  },
  {
   "cell_type": "raw",
   "id": "e4d95d49-ce0f-4f75-9bf6-2bd772c8c987",
   "metadata": {},
   "source": [
    "Q4. Create a list of numbers from 1 to 100. Use for loop and while loop to calculate the cube of each number and if the cube of that number is divisible by 4 or 5 then append that number in a list and print that list."
   ]
  },
  {
   "cell_type": "code",
   "execution_count": 7,
   "id": "b0a0485c-7d51-4900-bbe3-a3c451228ce2",
   "metadata": {},
   "outputs": [
    {
     "name": "stdout",
     "output_type": "stream",
     "text": [
      "[2, 4, 5, 6, 8, 10, 12, 14, 15, 16, 18, 20, 22, 24, 25, 26, 28, 30, 32, 34, 35, 36, 38, 40, 42, 44, 45, 46, 48, 50, 52, 54, 55, 56, 58, 60, 62, 64, 65, 66, 68, 70, 72, 74, 75, 76, 78, 80, 82, 84, 85, 86, 88, 90, 92, 94, 95, 96, 98, 100]\n"
     ]
    }
   ],
   "source": [
    "#for loop\n",
    "l = list(range(1,101))\n",
    "\n",
    "newlist =[]\n",
    "\n",
    "for i in l:\n",
    "    c= i**3\n",
    "    if c %4 ==0 or c%5==0:\n",
    "        newlist.append(i)\n",
    "print(newlist)"
   ]
  },
  {
   "cell_type": "code",
   "execution_count": 8,
   "id": "487b2354-3b5f-4abb-a12f-15788287a12d",
   "metadata": {},
   "outputs": [
    {
     "name": "stdout",
     "output_type": "stream",
     "text": [
      "[2, 4, 5, 6, 8, 10, 12, 14, 15, 16, 18, 20, 22, 24, 25, 26, 28, 30, 32, 34, 35, 36, 38, 40, 42, 44, 45, 46, 48, 50, 52, 54, 55, 56, 58, 60, 62, 64, 65, 66, 68, 70, 72, 74, 75, 76, 78, 80, 82, 84, 85, 86, 88, 90, 92, 94, 95, 96, 98, 100]\n"
     ]
    }
   ],
   "source": [
    "#while loop\n",
    "newlist2 =[]\n",
    "i =1\n",
    "while i <= len(l):\n",
    "    c = i**3\n",
    "    if c%4 ==0 or c%5 ==0:\n",
    "        newlist2.append(i)\n",
    "    i+=1\n",
    "print(newlist2)"
   ]
  },
  {
   "cell_type": "raw",
   "id": "bbaacf87-25bb-4879-b258-2cba80315b23",
   "metadata": {},
   "source": [
    "Q5. Write a program to filter count vowels in the below-given string. string = \"I want to become a data scientist\"\n",
    "\n"
   ]
  },
  {
   "cell_type": "code",
   "execution_count": 10,
   "id": "7e5ea8df-179d-4f90-97da-aeebbad594d6",
   "metadata": {},
   "outputs": [
    {
     "name": "stdout",
     "output_type": "stream",
     "text": [
      "12\n"
     ]
    }
   ],
   "source": [
    "sts = \"I want to become a data scientist\"\n",
    "vowels = 'aeiouAEIOU'\n",
    "count=0\n",
    "for char in sts:\n",
    "    if char in vowels:\n",
    "       count+=1\n",
    "print(count)"
   ]
  },
  {
   "cell_type": "code",
   "execution_count": null,
   "id": "2e48ec04-0b36-4bd4-a605-3c07c265c214",
   "metadata": {},
   "outputs": [],
   "source": []
  }
 ],
 "metadata": {
  "kernelspec": {
   "display_name": "Python 3 (ipykernel)",
   "language": "python",
   "name": "python3"
  },
  "language_info": {
   "codemirror_mode": {
    "name": "ipython",
    "version": 3
   },
   "file_extension": ".py",
   "mimetype": "text/x-python",
   "name": "python",
   "nbconvert_exporter": "python",
   "pygments_lexer": "ipython3",
   "version": "3.10.8"
  }
 },
 "nbformat": 4,
 "nbformat_minor": 5
}
