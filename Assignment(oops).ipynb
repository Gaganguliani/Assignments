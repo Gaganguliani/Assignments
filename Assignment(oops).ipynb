{
 "cells": [
  {
   "cell_type": "raw",
   "id": "ae951b88-3c48-4963-8e01-8275ca6ccbef",
   "metadata": {},
   "source": [
    "Q1: Explain Class and Object with respect to Object-Oriented Programming. Give a suitable example."
   ]
  },
  {
   "cell_type": "raw",
   "id": "9fd6aaf0-0060-4ad8-b550-4d07581eb378",
   "metadata": {},
   "source": [
    "Class is a detailed description, the definition, and the template of what an object will be. But it is not the object itself. Also, what we call, a class is the building block that leads to Object-Oriented Programming. It is a user-defined data type, that holds its own data members and member functions, which can be accessed and used by creating an instance of that class. It is the blueprint of any object. Once we have written a class and defined it, we can use it to create as many objects based on that class as we want. In Java, the class contains fields, constructors, and methods. For example, consider the Class of Accounts. There may be many accounts with different names and types,  but all of them will share some common properties, as all of them will have some common attributes like balance, account holder name, etc. So here, the Account is the class.\n",
    "\n",
    "Object is an instance of a class. All data members and member functions of the class can be accessed with the help of objects. When a class is defined, no memory is allocated, but memory is allocated when it is instantiated (i.e. an object is created). For Example, considering the objects for the class Account are SBI Account, ICICI account, etc."
   ]
  },
  {
   "cell_type": "raw",
   "id": "56f78abc-1e3c-4c58-85be-8f1dc003ac1e",
   "metadata": {},
   "source": [
    "Q2: Name the four pillars of OOPs."
   ]
  },
  {
   "cell_type": "raw",
   "id": "71a673d9-dd9c-4aaa-be76-a774faa80670",
   "metadata": {},
   "source": [
    "The four pillars of OOPS are:\n",
    "Encapsulation\n",
    "Inheritance\n",
    "Polymorphism\n",
    "Abstraction"
   ]
  },
  {
   "cell_type": "raw",
   "id": "9096fcc0-0aec-4728-bbac-f1165a3f5f10",
   "metadata": {},
   "source": [
    "Q3: Explain why the __init__() function is used. Give a suitable example."
   ]
  },
  {
   "cell_type": "raw",
   "id": "d5efb254-8d9b-4c14-a076-d1d7aebf9a91",
   "metadata": {},
   "source": [
    "The init method is a special method in Python classes that acts as a constructor. It is automatically called when an object of the class is created. The init method is used to initialize the attributes of the class and set the default values."
   ]
  },
  {
   "cell_type": "code",
   "execution_count": 3,
   "id": "2f573e62-aa97-452c-9678-3da15e50cb83",
   "metadata": {},
   "outputs": [
    {
     "name": "stdout",
     "output_type": "stream",
     "text": [
      "Toyota\n",
      "Camry\n",
      "2022\n"
     ]
    }
   ],
   "source": [
    "class Car:\n",
    "  def __init__(self, name, model, year):\n",
    "    self.name = name\n",
    "    self.model = model\n",
    "    self.year = year\n",
    "    self.odometer_reading = 0\n",
    "   \n",
    "\n",
    "my_car = Car(\"Toyota\", \"Camry\", 2022)\n",
    "print(my_car.name) \n",
    "print(my_car.model) \n",
    "print(my_car.year)"
   ]
  },
  {
   "cell_type": "raw",
   "id": "4dc3970e-f44c-4613-9e00-61785f861e81",
   "metadata": {},
   "source": [
    "Q4: Why self is used in OOPs?"
   ]
  },
  {
   "cell_type": "raw",
   "id": "abcd3c5e-a54a-492c-a85c-fd95d0f07d60",
   "metadata": {},
   "source": [
    "self is a reference to the current instance of the class. It is used to access the attributes and methods of the class within the class definition"
   ]
  },
  {
   "cell_type": "raw",
   "id": "f62875d3-32b0-4564-9fd7-b57678f8b126",
   "metadata": {},
   "source": [
    "Q5: What is inheritance? Give an example for each type of inheritance."
   ]
  },
  {
   "cell_type": "raw",
   "id": "0d1c2889-c899-4745-85d1-78c14fd14bc0",
   "metadata": {},
   "source": [
    "inheritance is a mechanism in object-oriented programming that allows a new class to be derived from an existing class, inheriting its attributes and behavior. This is useful for creating new classes that are related to existing classes and share some of their functionality.\n",
    "\n",
    "Types of Inheritance\n",
    "\n",
    "Single Inheritance\n",
    "Single inheritance enables a derived class to inherit properties from a single parent class, thus enabling code reusability and the addition of new features to existing code."
   ]
  },
  {
   "cell_type": "code",
   "execution_count": 4,
   "id": "fa97e328-8c3f-4199-95f2-4e2f3ae137a1",
   "metadata": {},
   "outputs": [
    {
     "name": "stdout",
     "output_type": "stream",
     "text": [
      "This function is in parent class.\n",
      "This function is in child class.\n"
     ]
    }
   ],
   "source": [
    "#example\n",
    "class Parent:\n",
    "    def func1(self):\n",
    "        print(\"This function is in parent class.\")\n",
    "class Child(Parent):\n",
    "    def func2(self):\n",
    "        print(\"This function is in child class.\")\n",
    "\n",
    "object = Child()\n",
    "object.func1()\n",
    "object.func2()"
   ]
  },
  {
   "cell_type": "raw",
   "id": "e4757050-c132-480d-8373-f934e61becf1",
   "metadata": {},
   "source": [
    "2. Multiple Inheritance:\n",
    "When a class can be derived from more than one base class this type of inheritance is called multiple inheritances. In multiple inheritances, all the features of the base classes are inherited into the derived class."
   ]
  },
  {
   "cell_type": "code",
   "execution_count": 5,
   "id": "b26d98c2-57b3-42e1-bc27-9ceeabd3a52c",
   "metadata": {},
   "outputs": [
    {
     "name": "stdout",
     "output_type": "stream",
     "text": [
      "Father : RAM\n",
      "Mother : SITA\n"
     ]
    }
   ],
   "source": [
    "\n",
    "class Mother:\n",
    "    mothername = \"\"\n",
    " \n",
    "    def mother(self):\n",
    "        print(self.mothername)\n",
    " \n",
    "class Father:\n",
    "    fathername = \"\"\n",
    " \n",
    "    def father(self):\n",
    "        print(self.fathername)\n",
    "\n",
    "class Son(Mother, Father):\n",
    "    def parents(self):\n",
    "        print(\"Father :\", self.fathername)\n",
    "        print(\"Mother :\", self.mothername)\n",
    "\n",
    "s1 = Son()\n",
    "s1.fathername = \"RAM\"\n",
    "s1.mothername = \"SITA\"\n",
    "s1.parents()"
   ]
  },
  {
   "cell_type": "raw",
   "id": "f21a03c3-cbd0-42c2-97f8-093998ca2d01",
   "metadata": {},
   "source": [
    "3. Multilevel Inheritance :\n",
    "In multilevel inheritance, features of the base class and the derived class are further inherited into the new derived class. This is similar to a relationship representing a child and a grandfather."
   ]
  },
  {
   "cell_type": "code",
   "execution_count": 7,
   "id": "a31d553d-6576-4ac4-9764-6a7071751702",
   "metadata": {},
   "outputs": [
    {
     "name": "stdout",
     "output_type": "stream",
     "text": [
      "Z\n",
      "Grandfather name : Z\n",
      "Father name : Y\n",
      "Son name : X\n"
     ]
    }
   ],
   "source": [
    "class Grandfather:\n",
    " \n",
    "    def __init__(self, grandfathername):\n",
    "        self.grandfathername = grandfathername\n",
    " \n",
    "\n",
    "class Father(Grandfather):\n",
    "    def __init__(self, fathername, grandfathername):\n",
    "        self.fathername = fathername\n",
    " \n",
    "       \n",
    "        Grandfather.__init__(self, grandfathername)\n",
    " \n",
    "\n",
    " \n",
    " \n",
    "class Son(Father):\n",
    "    def __init__(self, sonname, fathername, grandfathername):\n",
    "        self.sonname = sonname\n",
    " \n",
    "\n",
    "        Father.__init__(self, fathername, grandfathername)\n",
    " \n",
    "    def print_name(self):\n",
    "        print('Grandfather name :', self.grandfathername)\n",
    "        print(\"Father name :\", self.fathername)\n",
    "        print(\"Son name :\", self.sonname)\n",
    "\n",
    "s1 = Son('X', 'Y', 'Z')\n",
    "print(s1.grandfathername)\n",
    "s1.print_name()\n"
   ]
  },
  {
   "cell_type": "code",
   "execution_count": null,
   "id": "38373a0c-23f8-4fdf-bf5e-a29077c38f4f",
   "metadata": {},
   "outputs": [],
   "source": []
  }
 ],
 "metadata": {
  "kernelspec": {
   "display_name": "Python 3 (ipykernel)",
   "language": "python",
   "name": "python3"
  },
  "language_info": {
   "codemirror_mode": {
    "name": "ipython",
    "version": 3
   },
   "file_extension": ".py",
   "mimetype": "text/x-python",
   "name": "python",
   "nbconvert_exporter": "python",
   "pygments_lexer": "ipython3",
   "version": "3.10.8"
  }
 },
 "nbformat": 4,
 "nbformat_minor": 5
}
